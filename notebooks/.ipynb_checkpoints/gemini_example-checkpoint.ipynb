{
 "cells": [
  {
   "cell_type": "code",
   "execution_count": null,
   "metadata": {
    "vscode": {
     "languageId": "plaintext"
    }
   },
   "outputs": [],
   "source": [
    "# notebooks/gemini_example.ipynb would contain:\n",
    "import google.generativeai as genai\n",
    "from dotenv import load_dotenv\n",
    "import os\n",
    "\n",
    "# Load environment variables\n",
    "load_dotenv()\n",
    "\n",
    "# Configure Gemini\n",
    "genai.configure(api_key=os.getenv('GOOGLE_API_KEY'))\n",
    "\n",
    "# Initialize Gemini Pro model\n",
    "model = genai.GenerativeModel('gemini-pro')\n",
    "\n",
    "class GeminiAgent:\n",
    "    def __init__(self):\n",
    "        self.model = genai.GenerativeModel('gemini-pro')\n",
    "        self.client = QdrantClient(\"qdrant\", port=6333)\n",
    "        \n",
    "    async def process(self, query):\n",
    "        response = await self.model.generate_content(query)\n",
    "        return response.text\n",
    "    \n",
    "    def embed(self, text):\n",
    "        # Note: For embeddings, you might want to use a dedicated embedding model\n",
    "        # as Gemini doesn't provide embeddings directly\n",
    "        embedding_model = SentenceTransformer('all-MiniLM-L6-v2')\n",
    "        return embedding_model.encode(text)\n",
    "\n",
    "# Example usage\n",
    "agent = GeminiAgent()\n",
    "response = await agent.process(\"Explain quantum computing\")\n",
    "print(response)"
   ]
  }
 ],
 "metadata": {
  "language_info": {
   "name": "python"
  }
 },
 "nbformat": 4,
 "nbformat_minor": 2
}
